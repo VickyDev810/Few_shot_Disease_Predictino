{
 "cells": [
  {
   "cell_type": "code",
   "execution_count": null,
   "metadata": {
    "vscode": {
     "languageId": "plaintext"
    }
   },
   "outputs": [],
   "source": [
    "import matplotlib.pyplot as plt\n",
    "import seaborn as sns\n",
    "from sklearn.metrics import accuracy_score, classification_report, confusion_matrix\n",
    "\n",
    "# 1. Predict on the entire testing dataset\n",
    "predictions = trainer.predict(test_dataset)\n",
    "predicted_labels = predictions.predictions.argmax(axis=-1)  # Get the index of the predicted class\n",
    "true_labels = test_dataset['labels']  # Actual labels in the test dataset\n",
    "\n",
    "# 2. Calculate accuracy\n",
    "accuracy = accuracy_score(true_labels, predicted_labels)\n",
    "print(f\"Accuracy: {accuracy * 100:.2f}%\")\n",
    "\n",
    "# 3. Classification Report (precision, recall, f1-score)\n",
    "report = classification_report(true_labels, predicted_labels, target_names=train_df['prognosis'].unique().tolist())\n",
    "print(\"Classification Report:\\n\", report)\n",
    "\n",
    "# 4. Confusion Matrix\n",
    "conf_matrix = confusion_matrix(true_labels, predicted_labels)\n",
    "\n",
    "# Plot Confusion Matrix\n",
    "plt.figure(figsize=(10, 8))\n",
    "sns.heatmap(conf_matrix, annot=True, fmt=\"d\", cmap=\"Blues\", xticklabels=train_df['prognosis'].unique().tolist(), yticklabels=train_df['prognosis'].unique().tolist())\n",
    "plt.title(\"Confusion Matrix\")\n",
    "plt.xlabel(\"Predicted Labels\")\n",
    "plt.ylabel(\"True Labels\")\n",
    "plt.show()\n",
    "\n",
    "# Optional: Save the classification report as a text file\n",
    "with open(\"classification_report.txt\", \"w\") as f:\n",
    "    f.write(report)\n"
   ]
  }
 ],
 "metadata": {
  "language_info": {
   "name": "python"
  }
 },
 "nbformat": 4,
 "nbformat_minor": 2
}
